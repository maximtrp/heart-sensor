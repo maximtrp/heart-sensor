{
 "cells": [
  {
   "cell_type": "code",
   "execution_count": null,
   "metadata": {},
   "outputs": [],
   "source": [
    "import pandas as pd\n",
    "import numpy as np\n",
    "import hrvanalysis as hrv\n",
    "import matplotlib.pyplot as plt\n",
    "import seaborn as sb\n",
    "import glob\n",
    "import os\n",
    "import re\n",
    "import dateutil.parser as dp\n",
    "import scipy.stats as ss\n",
    "import matplotlib.patches as mp\n",
    "import matplotlib.dates as md\n",
    "%config InlineBackend.figure_format = 'svg'"
   ]
  },
  {
   "cell_type": "code",
   "execution_count": null,
   "metadata": {},
   "outputs": [],
   "source": [
    "sb.set(font_scale=1)"
   ]
  },
  {
   "cell_type": "markdown",
   "metadata": {},
   "source": [
    "# Batch processing"
   ]
  },
  {
   "cell_type": "code",
   "execution_count": null,
   "metadata": {},
   "outputs": [],
   "source": [
    "files_peaks = glob.glob('*peaks*', recursive=True)"
   ]
  },
  {
   "cell_type": "code",
   "execution_count": null,
   "metadata": {},
   "outputs": [],
   "source": [
    "def datetime(s):\n",
    "    date = re.search('^\\d{4,4}-\\d+-\\d+', s)\n",
    "    time = re.search(' \\d{2,2}-\\d+-\\d+', s)\n",
    "    datetime = date[0] + ' ' + (time[0].strip() if time else '')\n",
    "    return pd.to_datetime(datetime, format='%Y-%m-%d %H-%M-%S')"
   ]
  },
  {
   "cell_type": "code",
   "execution_count": null,
   "metadata": {},
   "outputs": [],
   "source": [
    "df = pd.DataFrame()\n",
    "\n",
    "for file in files_peaks:\n",
    "    df_peaks = pd.read_csv(file, header=None, sep=' ', names=['x', 'y'], index_col=0)\n",
    "    df_peaks = df_peaks[df_peaks > 500].dropna()\n",
    "    \n",
    "    rr = np.diff(df_peaks.index)\n",
    "    rr = np.array(hrv.remove_outliers(rr, verbose=False))\n",
    "    rr = rr[~np.isnan(rr)]\n",
    "    \n",
    "    params = hrv.get_frequency_domain_features(rr)\n",
    "    params.update(hrv.get_time_domain_features(rr))\n",
    "    params.update(hrv.get_csi_cvi_features(rr))\n",
    "\n",
    "    hrv_score = 20 * np.log(params['rmssd'])\n",
    "    mode = ss.mode(rr)[0][0]\n",
    "    hist = np.histogram(rr, bins=np.arange(0, 2500, 50))\n",
    "    mid1 = np.argwhere(hist[1] > mode)[0][0] - 1\n",
    "    mid2 = mid1 + 1\n",
    "    amo = (hist[0][mid1:mid2].item() / len(rr)) * 100\n",
    "    isb = amo / (2 * mode) / (rr.max() - rr.min()) * 1000 * 1000\n",
    "\n",
    "    df_results = pd.DataFrame(params, index=[df.shape[0]])\n",
    "    df_results['hrv_score'] = hrv_score\n",
    "    df_results['baevsky_index'] = isb\n",
    "    df_results['file'] = os.path.basename(file)\n",
    "    df_results['datetime'] = datetime(os.path.basename(file))\n",
    "    df = df.append(df_results, sort=False)\n",
    "\n",
    "df.set_index('datetime', inplace=True)"
   ]
  },
  {
   "cell_type": "code",
   "execution_count": null,
   "metadata": {},
   "outputs": [],
   "source": [
    "df.sort_index(inplace=True)"
   ]
  },
  {
   "cell_type": "markdown",
   "metadata": {},
   "source": [
    "# HRV score and Stress index (Baevsky, 2009)"
   ]
  },
  {
   "cell_type": "code",
   "execution_count": null,
   "metadata": {},
   "outputs": [],
   "source": [
    "fig, (ax1, ax2) = plt.subplots(ncols=2, figsize=(11,5))\n",
    "\n",
    "ax1.plot(df.index, df['hrv_score'], marker='o', color='k', clip_on=False, zorder=10)\n",
    "ax1.xaxis.set_major_locator(plt.MaxNLocator(5))\n",
    "ax1.yaxis.set_major_locator(plt.MultipleLocator(12.5))\n",
    "ax1.xaxis.set_tick_params(rotation=0)\n",
    "[tick.set_horizontalalignment(\"center\") for tick in ax1.xaxis.get_majorticklabels()]\n",
    "ax1.grid(True, alpha=0.33)\n",
    "ax1.set_ylim(0, 100)\n",
    "ax1.set_ylabel('HRV score', weight=\"bold\")\n",
    "ydata = [np.arange(0, 100, 12.5).tolist(),\n",
    "         ['#d73027','#f46d43','#fdae61','#fee08b','#d9ef8b','#a6d96a','#66bd63','#1a9850']]\n",
    "for y1, fc in zip(*ydata):\n",
    "    ax1.add_patch(mp.Rectangle((ax1.get_xlim()[0], y1), ax1.get_xlim()[1], 12.5, fc=fc, alpha=0.33))\n",
    "ax1.xaxis.set_major_formatter(md.DateFormatter('%d-%b'))\n",
    "ax1.add_line(ax1.axhline(df['hrv_score'].median(), 0, 1, ls='--', color='k', lw=0.8, zorder=100))\n",
    "\n",
    "ax2.plot(df.index, df['baevsky_index'], marker='o', ms=5, clip_on=False, color='k', zorder=10)\n",
    "ax2.xaxis.set_major_locator(plt.MaxNLocator(5))\n",
    "ax2.yaxis.set_ticks([0, 30, 60, 120, 200, 300, 500, 750, 1000])\n",
    "ax2.xaxis.set_tick_params(rotation=0)\n",
    "[tick.set_horizontalalignment(\"center\") for tick in ax2.xaxis.get_majorticklabels()]\n",
    "ax2.set_ylim(0, 1000)\n",
    "ax2.set_ylabel('Stress index', weight=\"bold\")\n",
    "ax2.grid(True, alpha=0.33)\n",
    "ydata = [[0, 30, 60, 120, 200, 300, 500, 750],\n",
    "         [30, 30, 60, 80, 100, 200, 250, 250],\n",
    "         ['#3288bd','#1a9850','#91cf60','#d9ef8b','#ffffbf','#fee08b','#fc8d59','#d73027']]\n",
    "for y1, y2, fc in zip(*ydata):\n",
    "    ax2.add_patch(mp.Rectangle((ax2.get_xlim()[0], y1), ax2.get_xlim()[1], y2, fc=fc, alpha=0.33))\n",
    "ax2.xaxis.set_major_formatter(md.DateFormatter('%d-%b'))"
   ]
  },
  {
   "cell_type": "markdown",
   "metadata": {},
   "source": [
    "# Dataset"
   ]
  },
  {
   "cell_type": "code",
   "execution_count": null,
   "metadata": {},
   "outputs": [],
   "source": [
    "df.sort_index().tail()"
   ]
  }
 ],
 "metadata": {
  "kernelspec": {
   "display_name": "Python 3",
   "language": "python",
   "name": "python3"
  },
  "language_info": {
   "codemirror_mode": {
    "name": "ipython",
    "version": 3
   },
   "file_extension": ".py",
   "mimetype": "text/x-python",
   "name": "python",
   "nbconvert_exporter": "python",
   "pygments_lexer": "ipython3",
   "version": "3.7.3"
  }
 },
 "nbformat": 4,
 "nbformat_minor": 4
}
