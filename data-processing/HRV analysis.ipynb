{
 "cells": [
  {
   "cell_type": "code",
   "execution_count": null,
   "metadata": {},
   "outputs": [],
   "source": [
    "import pandas as pd\n",
    "import numpy as np\n",
    "import hrvanalysis as hrv\n",
    "import matplotlib.pyplot as plt\n",
    "import seaborn as sb\n",
    "import glob\n",
    "import scipy.stats as ss\n",
    "import peakutils as pu"
   ]
  },
  {
   "cell_type": "code",
   "execution_count": null,
   "metadata": {},
   "outputs": [],
   "source": [
    "%matplotlib inline\n",
    "%config InlineBackend.figure_format = 'svg'\n",
    "sb.set(font_scale=1)"
   ]
  },
  {
   "cell_type": "code",
   "execution_count": null,
   "metadata": {},
   "outputs": [],
   "source": [
    "ecg_data = sorted(glob.glob('../data/Me/*ECG*', recursive=True))[-1]\n",
    "df_ecg = pd.read_csv(ecg_data, header=None, sep=' ', names=['x', 'y'], index_col=0, dtype=np.int)\n",
    "thres = 550 # (np.median(df_ecg) + np.diff(np.quantile(df_ecg, [0.25, 0.75]))[0] * 1.5)\n",
    "df_peaks = df_ecg.iloc[pu.indexes(df_ecg.values.ravel(), thres=thres, min_dist=350, thres_abs=True)]"
   ]
  },
  {
   "cell_type": "code",
   "execution_count": null,
   "metadata": {},
   "outputs": [],
   "source": [
    "fn = ecg_data.replace(' ECG.txt', ' peaks.txt')\n",
    "df_peaks.to_csv(fn, header=False, sep=' ')"
   ]
  },
  {
   "cell_type": "code",
   "execution_count": null,
   "metadata": {},
   "outputs": [],
   "source": [
    "plt.figure(figsize=(13.5,4))\n",
    "#plt.ylim(400, 950)\n",
    "plt.xlim(df_ecg.index.min(), df_ecg.index.max())\n",
    "plt.plot(df_ecg.index.values, df_ecg.values.ravel(), lw=1)\n",
    "plt.plot(df_peaks.index.values, df_peaks.values.ravel(), 'ro', ms=3)"
   ]
  },
  {
   "cell_type": "markdown",
   "metadata": {},
   "source": [
    "## RR intervals"
   ]
  },
  {
   "cell_type": "code",
   "execution_count": null,
   "metadata": {},
   "outputs": [],
   "source": [
    "rr = np.diff(df_peaks.index)\n",
    "sb.distplot(rr, kde=False, rug=True)"
   ]
  },
  {
   "cell_type": "code",
   "execution_count": null,
   "metadata": {},
   "outputs": [],
   "source": [
    "plt.ylim(0, 1300)\n",
    "sb.lineplot(range(len(rr)), rr, lw=1)"
   ]
  },
  {
   "cell_type": "code",
   "execution_count": null,
   "metadata": {},
   "outputs": [],
   "source": [
    "nn = np.array(hrv.get_nn_intervals(rr))\n",
    "nn = nn[~np.isnan(nn)]"
   ]
  },
  {
   "cell_type": "markdown",
   "metadata": {},
   "source": [
    "## Features "
   ]
  },
  {
   "cell_type": "code",
   "execution_count": null,
   "metadata": {},
   "outputs": [],
   "source": [
    "fdf = hrv.get_frequency_domain_features(nn)\n",
    "fdf"
   ]
  },
  {
   "cell_type": "code",
   "execution_count": null,
   "metadata": {},
   "outputs": [],
   "source": [
    "ccf = hrv.get_csi_cvi_features(nn)\n",
    "ccf"
   ]
  },
  {
   "cell_type": "code",
   "execution_count": null,
   "metadata": {},
   "outputs": [],
   "source": [
    "tdf = hrv.get_time_domain_features(nn)\n",
    "tdf"
   ]
  },
  {
   "cell_type": "code",
   "execution_count": null,
   "metadata": {},
   "outputs": [],
   "source": [
    "hrv.get_poincare_plot_features(nn)"
   ]
  },
  {
   "cell_type": "markdown",
   "metadata": {},
   "source": [
    "# HRV score and Stress index (Baevsky, 2009)"
   ]
  },
  {
   "cell_type": "code",
   "execution_count": null,
   "metadata": {},
   "outputs": [],
   "source": [
    "hrv_score = 20*np.log(tdf['rmssd'])\n",
    "\n",
    "mode = ss.mode(rr)[0][0]\n",
    "hist = np.histogram(nn, bins=np.arange(0, 2500, 50))\n",
    "mid1 = np.argwhere(hist[1] > mode)[0][0] - 1\n",
    "mid2 = mid1 + 1\n",
    "amo = (hist[0][mid1:mid2].item() / len(nn)) * 100\n",
    "isb = amo / (2 * mode) / (np.max(nn) - np.min(nn)) * 1000 * 1000\n",
    "\n",
    "hrv_score, isb"
   ]
  },
  {
   "cell_type": "code",
   "execution_count": null,
   "metadata": {},
   "outputs": [],
   "source": [
    "hrv.plot.plot_psd(rr)"
   ]
  }
 ],
 "metadata": {
  "kernelspec": {
   "display_name": "Python 3",
   "language": "python",
   "name": "python3"
  },
  "language_info": {
   "codemirror_mode": {
    "name": "ipython",
    "version": 3
   },
   "file_extension": ".py",
   "mimetype": "text/x-python",
   "name": "python",
   "nbconvert_exporter": "python",
   "pygments_lexer": "ipython3",
   "version": "3.7.4"
  }
 },
 "nbformat": 4,
 "nbformat_minor": 4
}
