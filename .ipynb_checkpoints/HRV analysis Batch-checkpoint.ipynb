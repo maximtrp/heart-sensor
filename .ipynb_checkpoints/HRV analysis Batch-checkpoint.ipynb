{
 "cells": [
  {
   "cell_type": "code",
   "execution_count": null,
   "metadata": {},
   "outputs": [],
   "source": [
    "import pandas as pd\n",
    "import numpy as np\n",
    "import hrvanalysis as hrv\n",
    "import matplotlib.pyplot as plt\n",
    "import seaborn as sb\n",
    "import glob\n",
    "import os\n",
    "import re\n",
    "import dateutil.parser as dp\n",
    "%config InlineBackend.figure_format = 'svg'"
   ]
  },
  {
   "cell_type": "code",
   "execution_count": null,
   "metadata": {},
   "outputs": [],
   "source": [
    "sb.set(font_scale=1)"
   ]
  },
  {
   "cell_type": "code",
   "execution_count": null,
   "metadata": {},
   "outputs": [],
   "source": [
    "files_peaks = glob.glob('*peaks*', recursive=True)"
   ]
  },
  {
   "cell_type": "code",
   "execution_count": null,
   "metadata": {},
   "outputs": [],
   "source": [
    "def datetime(s):\n",
    "    date = re.search('^\\d{4,4}-\\d+-\\d+', s)\n",
    "    time = re.search(' \\d{2,2}-\\d+-\\d+', s)\n",
    "    datetime = date[0] + ' ' + (time[0].strip() if time else '')\n",
    "    return pd.to_datetime(datetime, format='%Y-%m-%d %H-%M-%S')"
   ]
  },
  {
   "cell_type": "code",
   "execution_count": null,
   "metadata": {},
   "outputs": [],
   "source": [
    "df = pd.DataFrame()\n",
    "\n",
    "for file in files_peaks:\n",
    "    df_peaks = pd.read_csv(file, header=None, sep=' ', names=['x', 'y'], index_col=0)\n",
    "    df_peaks = df_peaks[df_peaks > 600].dropna()\n",
    "    \n",
    "    rr = np.diff(df_peaks.index)\n",
    "    rr = np.array(hrv.remove_outliers(rr, verbose=False))\n",
    "    rr = rr[~np.isnan(rr)]\n",
    "    \n",
    "    params = hrv.get_frequency_domain_features(rr)\n",
    "    params.update(hrv.get_csi_cvi_features(rr))\n",
    "    df_results = pd.DataFrame(params, index=[df.shape[0]])\n",
    "    df_results['file'] = os.path.basename(file)\n",
    "    df_results['datetime'] = datetime(os.path.basename(file))\n",
    "    df = df.append(df_results)\n",
    "\n",
    "df.set_index('datetime', inplace=True)"
   ]
  },
  {
   "cell_type": "code",
   "execution_count": null,
   "metadata": {},
   "outputs": [],
   "source": [
    "ax = df['lf_hf_ratio'].plot(marker='o', clip_on=False, zorder=10)\n",
    "ax.xaxis.set_major_locator(plt.MaxNLocator(5))\n",
    "ax.xaxis.set_tick_params(rotation=0)\n",
    "[tick.set_horizontalalignment(\"center\") for tick in ax.xaxis.get_majorticklabels()]\n",
    "ax.set_ylim(0, 2)"
   ]
  }
 ],
 "metadata": {
  "kernelspec": {
   "display_name": "Python 3",
   "language": "python",
   "name": "python3"
  },
  "language_info": {
   "codemirror_mode": {
    "name": "ipython",
    "version": 3
   },
   "file_extension": ".py",
   "mimetype": "text/x-python",
   "name": "python",
   "nbconvert_exporter": "python",
   "pygments_lexer": "ipython3",
   "version": "3.7.3"
  }
 },
 "nbformat": 4,
 "nbformat_minor": 4
}
